{
  "nbformat": 4,
  "nbformat_minor": 0,
  "metadata": {
    "colab": {
      "provenance": []
    },
    "kernelspec": {
      "name": "python3",
      "display_name": "Python 3"
    },
    "language_info": {
      "name": "python"
    }
  },
  "cells": [
    {
      "cell_type": "code",
      "source": [
        "import matplotlib as plt\n",
        "from sklearn.datasets import make_blobs\n",
        "from sklearn.cluster import KMeans\n",
        "from sklearn.metrics import silhouette_score\n",
        "from sklearn.preprocessing import StandardScaler"
      ],
      "metadata": {
        "id": "S6ePUqDTGwHm"
      },
      "execution_count": 78,
      "outputs": []
    },
    {
      "cell_type": "code",
      "source": [
        "features, true_label = make_blobs(\n",
        "    n_samples=400,\n",
        "    centers=5,\n",
        "    cluster_std=4,\n",
        "    random_state=42\n",
        ")"
      ],
      "metadata": {
        "id": "nkPblt_CGxB_"
      },
      "execution_count": 79,
      "outputs": []
    },
    {
      "cell_type": "code",
      "source": [
        "features[:10]"
      ],
      "metadata": {
        "colab": {
          "base_uri": "https://localhost:8080/"
        },
        "id": "9QCDzpecHyL3",
        "outputId": "878a4ecd-e162-4060-8df2-8ea2a9894bd1"
      },
      "execution_count": 80,
      "outputs": [
        {
          "output_type": "execute_result",
          "data": {
            "text/plain": [
              "array([[ -0.29975634,  -7.87625375],\n",
              "       [  4.55627246,   2.44247922],\n",
              "       [ -6.39844466,  -4.82235426],\n",
              "       [-10.78875265,   5.59329016],\n",
              "       [  8.45588589,   4.57873469],\n",
              "       [ -8.42328558,   6.13490929],\n",
              "       [-12.34080077,   1.79232399],\n",
              "       [ -4.16719951,   8.34120629],\n",
              "       [  9.41812461,   8.66771167],\n",
              "       [-13.01608387,  -1.76940231]])"
            ]
          },
          "metadata": {},
          "execution_count": 80
        }
      ]
    },
    {
      "cell_type": "code",
      "source": [
        "true_label[:200]"
      ],
      "metadata": {
        "id": "agqrrSs7H4VM",
        "colab": {
          "base_uri": "https://localhost:8080/"
        },
        "outputId": "2bc36c7c-538d-4931-cfc7-9b3577b83ce9"
      },
      "execution_count": 81,
      "outputs": [
        {
          "output_type": "execute_result",
          "data": {
            "text/plain": [
              "array([2, 1, 2, 3, 1, 0, 3, 3, 4, 2, 4, 0, 0, 4, 1, 4, 2, 4, 0, 1, 2, 0,\n",
              "       2, 0, 1, 4, 3, 4, 2, 3, 2, 4, 0, 0, 4, 2, 0, 1, 1, 4, 0, 1, 4, 3,\n",
              "       4, 3, 3, 2, 2, 3, 3, 0, 3, 0, 4, 1, 1, 4, 2, 0, 1, 4, 4, 3, 2, 2,\n",
              "       0, 0, 4, 1, 2, 3, 1, 2, 3, 1, 1, 0, 4, 2, 0, 1, 1, 0, 4, 3, 2, 2,\n",
              "       1, 3, 1, 4, 1, 2, 2, 2, 2, 4, 1, 4, 3, 1, 4, 3, 0, 3, 3, 4, 1, 4,\n",
              "       2, 1, 0, 1, 4, 3, 3, 3, 2, 1, 4, 3, 0, 1, 2, 3, 0, 3, 2, 4, 3, 0,\n",
              "       0, 1, 2, 4, 2, 1, 0, 4, 0, 3, 0, 4, 3, 2, 0, 1, 3, 0, 3, 1, 4, 0,\n",
              "       3, 1, 3, 0, 2, 1, 1, 0, 1, 0, 1, 2, 1, 4, 2, 4, 3, 4, 2, 0, 3, 3,\n",
              "       2, 1, 1, 0, 1, 4, 3, 1, 2, 2, 3, 2, 0, 0, 3, 2, 4, 1, 3, 3, 1, 2,\n",
              "       2, 2])"
            ]
          },
          "metadata": {},
          "execution_count": 81
        }
      ]
    },
    {
      "cell_type": "code",
      "source": [
        "standard_skala = StandardScaler()\n",
        "skala_fitur = standard_skala.fit_transform(features)"
      ],
      "metadata": {
        "id": "TwN5RrbbI2aJ"
      },
      "execution_count": 82,
      "outputs": []
    },
    {
      "cell_type": "code",
      "source": [
        "skala_fitur[:10]"
      ],
      "metadata": {
        "colab": {
          "base_uri": "https://localhost:8080/"
        },
        "id": "yXpt4mI4Oyf8",
        "outputId": "e7c51424-2187-48bd-c92e-e1eee30f0e16"
      },
      "execution_count": 83,
      "outputs": [
        {
          "output_type": "execute_result",
          "data": {
            "text/plain": [
              "array([[ 0.32755407, -1.60836612],\n",
              "       [ 1.07126596, -0.1000952 ],\n",
              "       [-0.60647397, -1.16198304],\n",
              "       [-1.27885965,  0.36045325],\n",
              "       [ 1.66850065,  0.21215747],\n",
              "       [-0.91658297,  0.43962076],\n",
              "       [-1.51655936, -0.19512724],\n",
              "       [-0.26475368,  0.76211128],\n",
              "       [ 1.81586971,  0.80983599],\n",
              "       [-1.61998051, -0.71573846]])"
            ]
          },
          "metadata": {},
          "execution_count": 83
        }
      ]
    },
    {
      "cell_type": "code",
      "source": [
        "metode_kmeans = KMeans(\n",
        "    init=\"random\",\n",
        "    n_clusters=4,\n",
        "    n_init=10,\n",
        "    max_iter=100,\n",
        "    random_state=41\n",
        "    )"
      ],
      "metadata": {
        "id": "5lWkbEx6PDq_"
      },
      "execution_count": 84,
      "outputs": []
    },
    {
      "cell_type": "code",
      "source": [
        "metode_kmeans.fit(skala_fitur)"
      ],
      "metadata": {
        "colab": {
          "base_uri": "https://localhost:8080/",
          "height": 74
        },
        "id": "ZmyPuP06R2Gc",
        "outputId": "20dbdbf0-24ea-4579-c9c8-c9b19727e89b"
      },
      "execution_count": 85,
      "outputs": [
        {
          "output_type": "execute_result",
          "data": {
            "text/plain": [
              "KMeans(init='random', max_iter=100, n_clusters=4, n_init=10, random_state=41)"
            ],
            "text/html": [
              "<style>#sk-container-id-5 {color: black;background-color: white;}#sk-container-id-5 pre{padding: 0;}#sk-container-id-5 div.sk-toggleable {background-color: white;}#sk-container-id-5 label.sk-toggleable__label {cursor: pointer;display: block;width: 100%;margin-bottom: 0;padding: 0.3em;box-sizing: border-box;text-align: center;}#sk-container-id-5 label.sk-toggleable__label-arrow:before {content: \"▸\";float: left;margin-right: 0.25em;color: #696969;}#sk-container-id-5 label.sk-toggleable__label-arrow:hover:before {color: black;}#sk-container-id-5 div.sk-estimator:hover label.sk-toggleable__label-arrow:before {color: black;}#sk-container-id-5 div.sk-toggleable__content {max-height: 0;max-width: 0;overflow: hidden;text-align: left;background-color: #f0f8ff;}#sk-container-id-5 div.sk-toggleable__content pre {margin: 0.2em;color: black;border-radius: 0.25em;background-color: #f0f8ff;}#sk-container-id-5 input.sk-toggleable__control:checked~div.sk-toggleable__content {max-height: 200px;max-width: 100%;overflow: auto;}#sk-container-id-5 input.sk-toggleable__control:checked~label.sk-toggleable__label-arrow:before {content: \"▾\";}#sk-container-id-5 div.sk-estimator input.sk-toggleable__control:checked~label.sk-toggleable__label {background-color: #d4ebff;}#sk-container-id-5 div.sk-label input.sk-toggleable__control:checked~label.sk-toggleable__label {background-color: #d4ebff;}#sk-container-id-5 input.sk-hidden--visually {border: 0;clip: rect(1px 1px 1px 1px);clip: rect(1px, 1px, 1px, 1px);height: 1px;margin: -1px;overflow: hidden;padding: 0;position: absolute;width: 1px;}#sk-container-id-5 div.sk-estimator {font-family: monospace;background-color: #f0f8ff;border: 1px dotted black;border-radius: 0.25em;box-sizing: border-box;margin-bottom: 0.5em;}#sk-container-id-5 div.sk-estimator:hover {background-color: #d4ebff;}#sk-container-id-5 div.sk-parallel-item::after {content: \"\";width: 100%;border-bottom: 1px solid gray;flex-grow: 1;}#sk-container-id-5 div.sk-label:hover label.sk-toggleable__label {background-color: #d4ebff;}#sk-container-id-5 div.sk-serial::before {content: \"\";position: absolute;border-left: 1px solid gray;box-sizing: border-box;top: 0;bottom: 0;left: 50%;z-index: 0;}#sk-container-id-5 div.sk-serial {display: flex;flex-direction: column;align-items: center;background-color: white;padding-right: 0.2em;padding-left: 0.2em;position: relative;}#sk-container-id-5 div.sk-item {position: relative;z-index: 1;}#sk-container-id-5 div.sk-parallel {display: flex;align-items: stretch;justify-content: center;background-color: white;position: relative;}#sk-container-id-5 div.sk-item::before, #sk-container-id-5 div.sk-parallel-item::before {content: \"\";position: absolute;border-left: 1px solid gray;box-sizing: border-box;top: 0;bottom: 0;left: 50%;z-index: -1;}#sk-container-id-5 div.sk-parallel-item {display: flex;flex-direction: column;z-index: 1;position: relative;background-color: white;}#sk-container-id-5 div.sk-parallel-item:first-child::after {align-self: flex-end;width: 50%;}#sk-container-id-5 div.sk-parallel-item:last-child::after {align-self: flex-start;width: 50%;}#sk-container-id-5 div.sk-parallel-item:only-child::after {width: 0;}#sk-container-id-5 div.sk-dashed-wrapped {border: 1px dashed gray;margin: 0 0.4em 0.5em 0.4em;box-sizing: border-box;padding-bottom: 0.4em;background-color: white;}#sk-container-id-5 div.sk-label label {font-family: monospace;font-weight: bold;display: inline-block;line-height: 1.2em;}#sk-container-id-5 div.sk-label-container {text-align: center;}#sk-container-id-5 div.sk-container {/* jupyter's `normalize.less` sets `[hidden] { display: none; }` but bootstrap.min.css set `[hidden] { display: none !important; }` so we also need the `!important` here to be able to override the default hidden behavior on the sphinx rendered scikit-learn.org. See: https://github.com/scikit-learn/scikit-learn/issues/21755 */display: inline-block !important;position: relative;}#sk-container-id-5 div.sk-text-repr-fallback {display: none;}</style><div id=\"sk-container-id-5\" class=\"sk-top-container\"><div class=\"sk-text-repr-fallback\"><pre>KMeans(init=&#x27;random&#x27;, max_iter=100, n_clusters=4, n_init=10, random_state=41)</pre><b>In a Jupyter environment, please rerun this cell to show the HTML representation or trust the notebook. <br />On GitHub, the HTML representation is unable to render, please try loading this page with nbviewer.org.</b></div><div class=\"sk-container\" hidden><div class=\"sk-item\"><div class=\"sk-estimator sk-toggleable\"><input class=\"sk-toggleable__control sk-hidden--visually\" id=\"sk-estimator-id-5\" type=\"checkbox\" checked><label for=\"sk-estimator-id-5\" class=\"sk-toggleable__label sk-toggleable__label-arrow\">KMeans</label><div class=\"sk-toggleable__content\"><pre>KMeans(init=&#x27;random&#x27;, max_iter=100, n_clusters=4, n_init=10, random_state=41)</pre></div></div></div></div></div>"
            ]
          },
          "metadata": {},
          "execution_count": 85
        }
      ]
    },
    {
      "cell_type": "code",
      "source": [
        "metode_kmeans.inertia_"
      ],
      "metadata": {
        "id": "b3JVLMkcSNaE",
        "colab": {
          "base_uri": "https://localhost:8080/"
        },
        "outputId": "ca529636-3204-4f3e-e6fd-f90cd1f3defe"
      },
      "execution_count": 86,
      "outputs": [
        {
          "output_type": "execute_result",
          "data": {
            "text/plain": [
              "209.68146233475073"
            ]
          },
          "metadata": {},
          "execution_count": 86
        }
      ]
    },
    {
      "cell_type": "code",
      "source": [
        "metode_kmeans.cluster_centers_"
      ],
      "metadata": {
        "colab": {
          "base_uri": "https://localhost:8080/"
        },
        "id": "3evacVnUUMR5",
        "outputId": "2e13982b-60e7-4412-af12-be996350020e"
      },
      "execution_count": 87,
      "outputs": [
        {
          "output_type": "execute_result",
          "data": {
            "text/plain": [
              "array([[-0.0150765 ,  1.06972996],\n",
              "       [ 1.00658591, -0.10537638],\n",
              "       [-1.11356346,  0.39306017],\n",
              "       [-0.66982282, -1.54618485]])"
            ]
          },
          "metadata": {},
          "execution_count": 87
        }
      ]
    },
    {
      "cell_type": "code",
      "source": [
        "metode_kmeans.n_iter_"
      ],
      "metadata": {
        "colab": {
          "base_uri": "https://localhost:8080/"
        },
        "id": "NoWHmBQaURp2",
        "outputId": "5162f520-d2cd-4b58-98ed-9bf6c8ee1825"
      },
      "execution_count": 88,
      "outputs": [
        {
          "output_type": "execute_result",
          "data": {
            "text/plain": [
              "11"
            ]
          },
          "metadata": {},
          "execution_count": 88
        }
      ]
    },
    {
      "cell_type": "code",
      "source": [
        "metode_kmeans.labels_"
      ],
      "metadata": {
        "colab": {
          "base_uri": "https://localhost:8080/"
        },
        "id": "SJNbkGhEWQRQ",
        "outputId": "a147b154-e3f2-48cb-ee25-fc22d0574743"
      },
      "execution_count": 89,
      "outputs": [
        {
          "output_type": "execute_result",
          "data": {
            "text/plain": [
              "array([3, 1, 3, 2, 1, 2, 2, 0, 1, 2, 2, 0, 0, 0, 1, 1, 3, 0, 0, 1, 3, 0,\n",
              "       3, 0, 1, 1, 2, 1, 3, 2, 3, 1, 1, 1, 1, 3, 2, 0, 1, 0, 0, 1, 1, 2,\n",
              "       0, 0, 0, 3, 3, 0, 2, 0, 2, 0, 1, 3, 1, 0, 3, 1, 1, 1, 0, 0, 3, 3,\n",
              "       0, 0, 0, 1, 3, 2, 1, 3, 2, 1, 1, 0, 1, 3, 0, 1, 1, 0, 1, 3, 3, 3,\n",
              "       1, 2, 1, 1, 1, 3, 3, 2, 3, 0, 1, 1, 2, 0, 1, 2, 0, 2, 2, 1, 1, 1,\n",
              "       3, 1, 1, 1, 1, 2, 2, 2, 3, 1, 0, 2, 2, 1, 3, 2, 0, 0, 2, 1, 2, 1,\n",
              "       0, 1, 3, 2, 3, 1, 0, 0, 0, 2, 0, 3, 2, 3, 0, 1, 0, 2, 2, 0, 1, 1,\n",
              "       2, 1, 0, 0, 3, 1, 1, 0, 1, 0, 1, 3, 1, 1, 3, 0, 0, 1, 3, 0, 2, 2,\n",
              "       1, 1, 1, 0, 1, 0, 2, 1, 3, 3, 2, 3, 1, 1, 2, 3, 1, 1, 0, 0, 1, 3,\n",
              "       3, 3, 2, 1, 1, 3, 0, 2, 0, 2, 1, 1, 0, 0, 3, 3, 2, 3, 1, 1, 3, 2,\n",
              "       2, 1, 0, 1, 2, 0, 0, 2, 3, 1, 0, 3, 0, 3, 0, 1, 1, 1, 1, 1, 1, 1,\n",
              "       2, 1, 1, 0, 0, 0, 2, 1, 0, 3, 1, 1, 3, 3, 1, 3, 2, 3, 0, 3, 2, 0,\n",
              "       1, 3, 1, 0, 1, 3, 1, 0, 0, 3, 2, 3, 2, 1, 1, 2, 0, 1, 3, 1, 1, 1,\n",
              "       0, 0, 0, 0, 2, 1, 1, 2, 1, 1, 1, 1, 2, 1, 2, 1, 1, 1, 1, 1, 1, 3,\n",
              "       1, 0, 3, 1, 1, 0, 1, 0, 1, 3, 2, 0, 2, 0, 2, 2, 0, 3, 2, 1, 1, 2,\n",
              "       2, 0, 1, 0, 0, 2, 2, 3, 1, 3, 1, 2, 0, 1, 2, 2, 3, 0, 1, 3, 1, 1,\n",
              "       2, 0, 2, 1, 2, 1, 1, 0, 1, 1, 3, 0, 1, 1, 2, 3, 1, 2, 3, 1, 2, 2,\n",
              "       0, 2, 1, 1, 1, 2, 1, 2, 0, 2, 2, 3, 3, 2, 1, 1, 2, 3, 3, 0, 2, 0,\n",
              "       1, 2, 1, 3], dtype=int32)"
            ]
          },
          "metadata": {},
          "execution_count": 89
        }
      ]
    },
    {
      "cell_type": "code",
      "source": [
        "import numpy as np\n",
        "import matplotlib.pyplot as plt\n",
        "import pandas as pd\n",
        "\n"
      ],
      "metadata": {
        "id": "zjyCAIU6Wxmt"
      },
      "execution_count": 90,
      "outputs": []
    },
    {
      "cell_type": "code",
      "source": [],
      "metadata": {
        "id": "DvBn2AwbZbSb"
      },
      "execution_count": 90,
      "outputs": []
    },
    {
      "cell_type": "code",
      "source": [
        "\n",
        "color = np.array([\"Red\",\"Green\",\"Blue\",\"yellow\",\"brown\"])\n",
        "plt.subplot(1,2,2)\n",
        "plt.scatter(skala_fitur[:,0], skala_fitur[:,1], s=50, alpha=1, cmap='viridis', c=color[metode_kmeans.labels_])\n"
      ],
      "metadata": {
        "colab": {
          "base_uri": "https://localhost:8080/",
          "height": 482
        },
        "id": "tJyWKlbxZmqa",
        "outputId": "c7d7cf43-f564-463a-afba-3048156cfd10"
      },
      "execution_count": 91,
      "outputs": [
        {
          "output_type": "stream",
          "name": "stderr",
          "text": [
            "<ipython-input-91-860e6561b51d>:3: UserWarning: No data for colormapping provided via 'c'. Parameters 'cmap' will be ignored\n",
            "  plt.scatter(skala_fitur[:,0], skala_fitur[:,1], s=50, alpha=1, cmap='viridis', c=color[metode_kmeans.labels_])\n"
          ]
        },
        {
          "output_type": "execute_result",
          "data": {
            "text/plain": [
              "<matplotlib.collections.PathCollection at 0x7e086db7f700>"
            ]
          },
          "metadata": {},
          "execution_count": 91
        },
        {
          "output_type": "display_data",
          "data": {
            "text/plain": [
              "<Figure size 640x480 with 1 Axes>"
            ],
            "image/png": "[encoded data removed]"
          },
          "metadata": {}
        }
      ]
    },
    {
      "cell_type": "code",
      "source": [],
      "metadata": {
        "id": "uoAIyQgVIubc"
      },
      "execution_count": 91,
      "outputs": []
    }
  ]
}